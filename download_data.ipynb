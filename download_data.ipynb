{
 "cells": [
  {
   "cell_type": "code",
   "execution_count": 1,
   "id": "de1f8d8c",
   "metadata": {},
   "outputs": [],
   "source": [
    "import yfinance as yf\n",
    "import pandas as pd"
   ]
  },
  {
   "cell_type": "code",
   "execution_count": 2,
   "id": "9ae8ce06",
   "metadata": {},
   "outputs": [],
   "source": [
    "# 定义期货合约代码\n",
    "ticker_symbol = \"GC=F\"\n",
    "# 定义下载数据的起始时间\n",
    "start_date = \"2000-01-01\"\n",
    "end_date = \"2025-01-01\""
   ]
  },
  {
   "cell_type": "code",
   "execution_count": 3,
   "id": "e920c561",
   "metadata": {},
   "outputs": [
    {
     "name": "stderr",
     "output_type": "stream",
     "text": [
      "/tmp/ipykernel_8787/2444515164.py:2: FutureWarning: YF.download() has changed argument auto_adjust default to True\n",
      "  data = yf.download(ticker_symbol, start=start_date, end=end_date)\n",
      "[*********************100%***********************]  1 of 1 completed\n"
     ]
    }
   ],
   "source": [
    "# 下载数据\n",
    "data = yf.download(ticker_symbol, start=start_date, end=end_date)"
   ]
  },
  {
   "cell_type": "code",
   "execution_count": 4,
   "id": "39093095",
   "metadata": {},
   "outputs": [
    {
     "name": "stdout",
     "output_type": "stream",
     "text": [
      "Price            Close        High         Low        Open Volume\n",
      "Ticker            GC=F        GC=F        GC=F        GC=F   GC=F\n",
      "Date                                                             \n",
      "2000-08-30  273.899994  273.899994  273.899994  273.899994      0\n",
      "2000-08-31  278.299988  278.299988  274.799988  274.799988      0\n",
      "2000-09-01  277.000000  277.000000  277.000000  277.000000      0\n",
      "2000-09-05  275.799988  275.799988  275.799988  275.799988      2\n",
      "2000-09-06  274.200012  274.200012  274.200012  274.200012      0\n"
     ]
    }
   ],
   "source": [
    "print(data.head())"
   ]
  },
  {
   "cell_type": "code",
   "execution_count": 5,
   "id": "4a89913f",
   "metadata": {},
   "outputs": [
    {
     "name": "stdout",
     "output_type": "stream",
     "text": [
      "数据已保存GC=F_historical_data.csv\n"
     ]
    }
   ],
   "source": [
    "data.to_csv(f\"{ticker_symbol}_historical_data.csv\")\n",
    "print(f\"数据已保存{ticker_symbol}_historical_data.csv\")"
   ]
  }
 ],
 "metadata": {
  "kernelspec": {
   "display_name": "dual-moving-average-crossover-strategy (3.12.3)",
   "language": "python",
   "name": "python3"
  },
  "language_info": {
   "codemirror_mode": {
    "name": "ipython",
    "version": 3
   },
   "file_extension": ".py",
   "mimetype": "text/x-python",
   "name": "python",
   "nbconvert_exporter": "python",
   "pygments_lexer": "ipython3",
   "version": "3.12.3"
  }
 },
 "nbformat": 4,
 "nbformat_minor": 5
}
